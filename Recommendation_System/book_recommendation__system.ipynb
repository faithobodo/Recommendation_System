{
  "nbformat": 4,
  "nbformat_minor": 0,
  "metadata": {
    "colab": {
      "name": "book_recommendation _system.ipynb",
      "provenance": [],
      "collapsed_sections": []
    },
    "kernelspec": {
      "name": "python3",
      "display_name": "Python 3"
    },
    "language_info": {
      "name": "python"
    }
  },
  "cells": [
    {
      "cell_type": "markdown",
      "source": [
        "## Recommendation_System \n",
        "* A Recommendation System for an E-commerce website to recommend products to users based on their preference.\n",
        "\n",
        "* The system is built based on popularity of the item, and based on collaborative filtering.\n",
        "\n",
        "* In this project, books dataset is used in creating a system to recommend books to users.\n",
        "\n",
        "* The aim of this project is to create a recommendation system for a book website exclusively for african books/authors\n",
        "\n",
        "* The dataset was pulled from this [website](https://www.ascleiden.nl/content/webdossiers/africas-100-best-books-20th-century)  and customized to suit the features that are needed in creating the system.\n",
        "\n",
        "* The features in the dataset includes: Author, Book_title, Genre of book, Rating of book\n",
        "\n",
        "\n",
        "\n"
      ],
      "metadata": {
        "id": "LJYm7hxHoWMx"
      }
    },
    {
      "cell_type": "code",
      "source": [
        "import pandas as pd\n",
        "import numpy as np\n",
        "import seaborn as sns\n",
        "import matplotlib.pyplot as plt\n",
        "import sklearn\n",
        "from sklearn.decomposition import TruncatedSVD"
      ],
      "metadata": {
        "id": "K4URfvDxxMOM"
      },
      "execution_count": null,
      "outputs": []
    },
    {
      "cell_type": "code",
      "source": [
        "df = pd.read_excel(\"/content/Book (4).xlsx\")"
      ],
      "metadata": {
        "id": "UOPY4CxxzzV0"
      },
      "execution_count": null,
      "outputs": []
    },
    {
      "cell_type": "code",
      "source": [
        "df.head(70)"
      ],
      "metadata": {
        "colab": {
          "base_uri": "https://localhost:8080/",
          "height": 424
        },
        "id": "wRdfhOV0z6Yu",
        "outputId": "c8c0e5ce-5817-4d54-b22f-a8596e9beb4d"
      },
      "execution_count": null,
      "outputs": [
        {
          "output_type": "execute_result",
          "data": {
            "text/plain": [
              "    Unnamed: 0               Author                     Book_Title  \\\n",
              "0          NaN        Chinua Achebe              Things fall apart   \n",
              "1          NaN        Meshack Asare                    Sosu's Call   \n",
              "2          NaN           Mariama Ba          Une si longue lettre,   \n",
              "3          NaN            Mia Couto               Terra Sonâmbula    \n",
              "4          NaN   Tsitsi Dangarembga             Nervous Conditions   \n",
              "..         ...                  ...                            ...   \n",
              "65         NaN      Serote, Mongane            Third World Express   \n",
              "66         NaN  Shaaban, Robert Bin       Utenzi wa vita vya uhuru   \n",
              "67         NaN     Sony Labou Tansi                La vie et demie   \n",
              "68         NaN    Sow Fall, Aminata            La grève des battus   \n",
              "69         NaN        Soyinka, Wole  Death and the King's horseman   \n",
              "\n",
              "         Genre  ratings english meaning  ratings.1  \n",
              "0      Fiction        4             NaN        NaN  \n",
              "1   Literature        3             NaN        NaN  \n",
              "2        Novel        4             NaN        NaN  \n",
              "3      Fiction        3             NaN        NaN  \n",
              "4        Novel        3             NaN        NaN  \n",
              "..         ...      ...             ...        ...  \n",
              "65      Poetry        4             NaN        NaN  \n",
              "66      Poetry        4             NaN        NaN  \n",
              "67       Novel        3             NaN        NaN  \n",
              "68  Literature        1             NaN        NaN  \n",
              "69       Drama        5             NaN        NaN  \n",
              "\n",
              "[70 rows x 7 columns]"
            ],
            "text/html": [
              "\n",
              "  <div id=\"df-0af1ca36-1d1a-4f4d-8381-99cf858157ce\">\n",
              "    <div class=\"colab-df-container\">\n",
              "      <div>\n",
              "<style scoped>\n",
              "    .dataframe tbody tr th:only-of-type {\n",
              "        vertical-align: middle;\n",
              "    }\n",
              "\n",
              "    .dataframe tbody tr th {\n",
              "        vertical-align: top;\n",
              "    }\n",
              "\n",
              "    .dataframe thead th {\n",
              "        text-align: right;\n",
              "    }\n",
              "</style>\n",
              "<table border=\"1\" class=\"dataframe\">\n",
              "  <thead>\n",
              "    <tr style=\"text-align: right;\">\n",
              "      <th></th>\n",
              "      <th>Unnamed: 0</th>\n",
              "      <th>Author</th>\n",
              "      <th>Book_Title</th>\n",
              "      <th>Genre</th>\n",
              "      <th>ratings</th>\n",
              "      <th>english meaning</th>\n",
              "      <th>ratings.1</th>\n",
              "    </tr>\n",
              "  </thead>\n",
              "  <tbody>\n",
              "    <tr>\n",
              "      <th>0</th>\n",
              "      <td>NaN</td>\n",
              "      <td>Chinua Achebe</td>\n",
              "      <td>Things fall apart</td>\n",
              "      <td>Fiction</td>\n",
              "      <td>4</td>\n",
              "      <td>NaN</td>\n",
              "      <td>NaN</td>\n",
              "    </tr>\n",
              "    <tr>\n",
              "      <th>1</th>\n",
              "      <td>NaN</td>\n",
              "      <td>Meshack Asare</td>\n",
              "      <td>Sosu's Call</td>\n",
              "      <td>Literature</td>\n",
              "      <td>3</td>\n",
              "      <td>NaN</td>\n",
              "      <td>NaN</td>\n",
              "    </tr>\n",
              "    <tr>\n",
              "      <th>2</th>\n",
              "      <td>NaN</td>\n",
              "      <td>Mariama Ba</td>\n",
              "      <td>Une si longue lettre,</td>\n",
              "      <td>Novel</td>\n",
              "      <td>4</td>\n",
              "      <td>NaN</td>\n",
              "      <td>NaN</td>\n",
              "    </tr>\n",
              "    <tr>\n",
              "      <th>3</th>\n",
              "      <td>NaN</td>\n",
              "      <td>Mia Couto</td>\n",
              "      <td>Terra Sonâmbula</td>\n",
              "      <td>Fiction</td>\n",
              "      <td>3</td>\n",
              "      <td>NaN</td>\n",
              "      <td>NaN</td>\n",
              "    </tr>\n",
              "    <tr>\n",
              "      <th>4</th>\n",
              "      <td>NaN</td>\n",
              "      <td>Tsitsi Dangarembga</td>\n",
              "      <td>Nervous Conditions</td>\n",
              "      <td>Novel</td>\n",
              "      <td>3</td>\n",
              "      <td>NaN</td>\n",
              "      <td>NaN</td>\n",
              "    </tr>\n",
              "    <tr>\n",
              "      <th>...</th>\n",
              "      <td>...</td>\n",
              "      <td>...</td>\n",
              "      <td>...</td>\n",
              "      <td>...</td>\n",
              "      <td>...</td>\n",
              "      <td>...</td>\n",
              "      <td>...</td>\n",
              "    </tr>\n",
              "    <tr>\n",
              "      <th>65</th>\n",
              "      <td>NaN</td>\n",
              "      <td>Serote, Mongane</td>\n",
              "      <td>Third World Express</td>\n",
              "      <td>Poetry</td>\n",
              "      <td>4</td>\n",
              "      <td>NaN</td>\n",
              "      <td>NaN</td>\n",
              "    </tr>\n",
              "    <tr>\n",
              "      <th>66</th>\n",
              "      <td>NaN</td>\n",
              "      <td>Shaaban, Robert Bin</td>\n",
              "      <td>Utenzi wa vita vya uhuru</td>\n",
              "      <td>Poetry</td>\n",
              "      <td>4</td>\n",
              "      <td>NaN</td>\n",
              "      <td>NaN</td>\n",
              "    </tr>\n",
              "    <tr>\n",
              "      <th>67</th>\n",
              "      <td>NaN</td>\n",
              "      <td>Sony Labou Tansi</td>\n",
              "      <td>La vie et demie</td>\n",
              "      <td>Novel</td>\n",
              "      <td>3</td>\n",
              "      <td>NaN</td>\n",
              "      <td>NaN</td>\n",
              "    </tr>\n",
              "    <tr>\n",
              "      <th>68</th>\n",
              "      <td>NaN</td>\n",
              "      <td>Sow Fall, Aminata</td>\n",
              "      <td>La grève des battus</td>\n",
              "      <td>Literature</td>\n",
              "      <td>1</td>\n",
              "      <td>NaN</td>\n",
              "      <td>NaN</td>\n",
              "    </tr>\n",
              "    <tr>\n",
              "      <th>69</th>\n",
              "      <td>NaN</td>\n",
              "      <td>Soyinka, Wole</td>\n",
              "      <td>Death and the King's horseman</td>\n",
              "      <td>Drama</td>\n",
              "      <td>5</td>\n",
              "      <td>NaN</td>\n",
              "      <td>NaN</td>\n",
              "    </tr>\n",
              "  </tbody>\n",
              "</table>\n",
              "<p>70 rows × 7 columns</p>\n",
              "</div>\n",
              "      <button class=\"colab-df-convert\" onclick=\"convertToInteractive('df-0af1ca36-1d1a-4f4d-8381-99cf858157ce')\"\n",
              "              title=\"Convert this dataframe to an interactive table.\"\n",
              "              style=\"display:none;\">\n",
              "        \n",
              "  <svg xmlns=\"http://www.w3.org/2000/svg\" height=\"24px\"viewBox=\"0 0 24 24\"\n",
              "       width=\"24px\">\n",
              "    <path d=\"M0 0h24v24H0V0z\" fill=\"none\"/>\n",
              "    <path d=\"M18.56 5.44l.94 2.06.94-2.06 2.06-.94-2.06-.94-.94-2.06-.94 2.06-2.06.94zm-11 1L8.5 8.5l.94-2.06 2.06-.94-2.06-.94L8.5 2.5l-.94 2.06-2.06.94zm10 10l.94 2.06.94-2.06 2.06-.94-2.06-.94-.94-2.06-.94 2.06-2.06.94z\"/><path d=\"M17.41 7.96l-1.37-1.37c-.4-.4-.92-.59-1.43-.59-.52 0-1.04.2-1.43.59L10.3 9.45l-7.72 7.72c-.78.78-.78 2.05 0 2.83L4 21.41c.39.39.9.59 1.41.59.51 0 1.02-.2 1.41-.59l7.78-7.78 2.81-2.81c.8-.78.8-2.07 0-2.86zM5.41 20L4 18.59l7.72-7.72 1.47 1.35L5.41 20z\"/>\n",
              "  </svg>\n",
              "      </button>\n",
              "      \n",
              "  <style>\n",
              "    .colab-df-container {\n",
              "      display:flex;\n",
              "      flex-wrap:wrap;\n",
              "      gap: 12px;\n",
              "    }\n",
              "\n",
              "    .colab-df-convert {\n",
              "      background-color: #E8F0FE;\n",
              "      border: none;\n",
              "      border-radius: 50%;\n",
              "      cursor: pointer;\n",
              "      display: none;\n",
              "      fill: #1967D2;\n",
              "      height: 32px;\n",
              "      padding: 0 0 0 0;\n",
              "      width: 32px;\n",
              "    }\n",
              "\n",
              "    .colab-df-convert:hover {\n",
              "      background-color: #E2EBFA;\n",
              "      box-shadow: 0px 1px 2px rgba(60, 64, 67, 0.3), 0px 1px 3px 1px rgba(60, 64, 67, 0.15);\n",
              "      fill: #174EA6;\n",
              "    }\n",
              "\n",
              "    [theme=dark] .colab-df-convert {\n",
              "      background-color: #3B4455;\n",
              "      fill: #D2E3FC;\n",
              "    }\n",
              "\n",
              "    [theme=dark] .colab-df-convert:hover {\n",
              "      background-color: #434B5C;\n",
              "      box-shadow: 0px 1px 3px 1px rgba(0, 0, 0, 0.15);\n",
              "      filter: drop-shadow(0px 1px 2px rgba(0, 0, 0, 0.3));\n",
              "      fill: #FFFFFF;\n",
              "    }\n",
              "  </style>\n",
              "\n",
              "      <script>\n",
              "        const buttonEl =\n",
              "          document.querySelector('#df-0af1ca36-1d1a-4f4d-8381-99cf858157ce button.colab-df-convert');\n",
              "        buttonEl.style.display =\n",
              "          google.colab.kernel.accessAllowed ? 'block' : 'none';\n",
              "\n",
              "        async function convertToInteractive(key) {\n",
              "          const element = document.querySelector('#df-0af1ca36-1d1a-4f4d-8381-99cf858157ce');\n",
              "          const dataTable =\n",
              "            await google.colab.kernel.invokeFunction('convertToInteractive',\n",
              "                                                     [key], {});\n",
              "          if (!dataTable) return;\n",
              "\n",
              "          const docLinkHtml = 'Like what you see? Visit the ' +\n",
              "            '<a target=\"_blank\" href=https://colab.research.google.com/notebooks/data_table.ipynb>data table notebook</a>'\n",
              "            + ' to learn more about interactive tables.';\n",
              "          element.innerHTML = '';\n",
              "          dataTable['output_type'] = 'display_data';\n",
              "          await google.colab.output.renderOutput(dataTable, element);\n",
              "          const docLink = document.createElement('div');\n",
              "          docLink.innerHTML = docLinkHtml;\n",
              "          element.appendChild(docLink);\n",
              "        }\n",
              "      </script>\n",
              "    </div>\n",
              "  </div>\n",
              "  "
            ]
          },
          "metadata": {},
          "execution_count": 5
        }
      ]
    },
    {
      "cell_type": "code",
      "source": [
        "df['Genre'].unique()"
      ],
      "metadata": {
        "colab": {
          "base_uri": "https://localhost:8080/"
        },
        "id": "5Xd7cnap6mDF",
        "outputId": "9fc327b2-3218-4f2b-f02a-6f89f86ca16a"
      },
      "execution_count": null,
      "outputs": [
        {
          "output_type": "execute_result",
          "data": {
            "text/plain": [
              "array(['Fiction', 'Literature', 'Novel', 'History', 'HIstory',\n",
              "       'Historical Fiction', 'Biography', 'Historical Novel', 'Poetry',\n",
              "       'Drama', 'Autobiography', 'Short Story', 'Non-fiction', 'Fantasy',\n",
              "       'Economics', 'New Age', 'Diary', 'Political Fiction', 'Philosopy',\n",
              "       'Science Fiction', 'Sociology', 'Philosophy'], dtype=object)"
            ]
          },
          "metadata": {},
          "execution_count": 6
        }
      ]
    },
    {
      "cell_type": "code",
      "source": [
        "df.rename(index={'HIstory':'History'}, inplace =True)"
      ],
      "metadata": {
        "id": "BHLp3uBF7IRm"
      },
      "execution_count": null,
      "outputs": []
    },
    {
      "cell_type": "code",
      "source": [
        "df['Genre'].unique()"
      ],
      "metadata": {
        "colab": {
          "base_uri": "https://localhost:8080/"
        },
        "id": "_bSsjv2x_wvP",
        "outputId": "55adec31-1fe7-46e1-bdd6-f903603d01fc"
      },
      "execution_count": null,
      "outputs": [
        {
          "output_type": "execute_result",
          "data": {
            "text/plain": [
              "array(['Fiction', 'Literature', 'Novel', 'History', 'HIstory',\n",
              "       'Historical Fiction', 'Biography', 'Historical Novel', 'Poetry',\n",
              "       'Drama', 'Autobiography', 'Short Story', 'Non-fiction', 'Fantasy',\n",
              "       'Economics', 'New Age', 'Diary', 'Political Fiction', 'Philosopy',\n",
              "       'Science Fiction', 'Sociology', 'Philosophy'], dtype=object)"
            ]
          },
          "metadata": {},
          "execution_count": 8
        }
      ]
    },
    {
      "cell_type": "code",
      "source": [
        "# dropping null values\n",
        "df.drop(columns=['Unnamed: 0','english meaning','ratings.1'],inplace=True)\n",
        "df"
      ],
      "metadata": {
        "id": "K-kwz1F-_V_l",
        "colab": {
          "base_uri": "https://localhost:8080/",
          "height": 424
        },
        "outputId": "314d4bcb-f070-4a2d-ce92-5c5aaa2d2238"
      },
      "execution_count": null,
      "outputs": [
        {
          "output_type": "execute_result",
          "data": {
            "text/plain": [
              "                   Author                             Book_Title  \\\n",
              "0           Chinua Achebe                      Things fall apart   \n",
              "1           Meshack Asare                            Sosu's Call   \n",
              "2              Mariama Ba                  Une si longue lettre,   \n",
              "3               Mia Couto                       Terra Sonâmbula    \n",
              "4      Tsitsi Dangarembga                     Nervous Conditions   \n",
              "..                    ...                                    ...   \n",
              "96     Mphahlele, Ezekiel                     Down Second Avenue   \n",
              "97         Mudimbe, V. Y.        The invention of Africa Indiana   \n",
              "98         Nkrumah, Kwame  Ghana: autobiography of Kwame Nkrumah   \n",
              "99           Plaatje, Sol            Native life in South Africa   \n",
              "100  Van Onselen, Charles                       The seed is mine   \n",
              "\n",
              "             Genre  ratings  \n",
              "0          Fiction        4  \n",
              "1       Literature        3  \n",
              "2            Novel        4  \n",
              "3          Fiction        3  \n",
              "4            Novel        3  \n",
              "..             ...      ...  \n",
              "96       Biography        3  \n",
              "97      Philosophy        3  \n",
              "98   Autobiography        4  \n",
              "99         History        3  \n",
              "100        History        4  \n",
              "\n",
              "[101 rows x 4 columns]"
            ],
            "text/html": [
              "\n",
              "  <div id=\"df-24e99aea-a5d5-4ddc-ab66-9aa38e076359\">\n",
              "    <div class=\"colab-df-container\">\n",
              "      <div>\n",
              "<style scoped>\n",
              "    .dataframe tbody tr th:only-of-type {\n",
              "        vertical-align: middle;\n",
              "    }\n",
              "\n",
              "    .dataframe tbody tr th {\n",
              "        vertical-align: top;\n",
              "    }\n",
              "\n",
              "    .dataframe thead th {\n",
              "        text-align: right;\n",
              "    }\n",
              "</style>\n",
              "<table border=\"1\" class=\"dataframe\">\n",
              "  <thead>\n",
              "    <tr style=\"text-align: right;\">\n",
              "      <th></th>\n",
              "      <th>Author</th>\n",
              "      <th>Book_Title</th>\n",
              "      <th>Genre</th>\n",
              "      <th>ratings</th>\n",
              "    </tr>\n",
              "  </thead>\n",
              "  <tbody>\n",
              "    <tr>\n",
              "      <th>0</th>\n",
              "      <td>Chinua Achebe</td>\n",
              "      <td>Things fall apart</td>\n",
              "      <td>Fiction</td>\n",
              "      <td>4</td>\n",
              "    </tr>\n",
              "    <tr>\n",
              "      <th>1</th>\n",
              "      <td>Meshack Asare</td>\n",
              "      <td>Sosu's Call</td>\n",
              "      <td>Literature</td>\n",
              "      <td>3</td>\n",
              "    </tr>\n",
              "    <tr>\n",
              "      <th>2</th>\n",
              "      <td>Mariama Ba</td>\n",
              "      <td>Une si longue lettre,</td>\n",
              "      <td>Novel</td>\n",
              "      <td>4</td>\n",
              "    </tr>\n",
              "    <tr>\n",
              "      <th>3</th>\n",
              "      <td>Mia Couto</td>\n",
              "      <td>Terra Sonâmbula</td>\n",
              "      <td>Fiction</td>\n",
              "      <td>3</td>\n",
              "    </tr>\n",
              "    <tr>\n",
              "      <th>4</th>\n",
              "      <td>Tsitsi Dangarembga</td>\n",
              "      <td>Nervous Conditions</td>\n",
              "      <td>Novel</td>\n",
              "      <td>3</td>\n",
              "    </tr>\n",
              "    <tr>\n",
              "      <th>...</th>\n",
              "      <td>...</td>\n",
              "      <td>...</td>\n",
              "      <td>...</td>\n",
              "      <td>...</td>\n",
              "    </tr>\n",
              "    <tr>\n",
              "      <th>96</th>\n",
              "      <td>Mphahlele, Ezekiel</td>\n",
              "      <td>Down Second Avenue</td>\n",
              "      <td>Biography</td>\n",
              "      <td>3</td>\n",
              "    </tr>\n",
              "    <tr>\n",
              "      <th>97</th>\n",
              "      <td>Mudimbe, V. Y.</td>\n",
              "      <td>The invention of Africa Indiana</td>\n",
              "      <td>Philosophy</td>\n",
              "      <td>3</td>\n",
              "    </tr>\n",
              "    <tr>\n",
              "      <th>98</th>\n",
              "      <td>Nkrumah, Kwame</td>\n",
              "      <td>Ghana: autobiography of Kwame Nkrumah</td>\n",
              "      <td>Autobiography</td>\n",
              "      <td>4</td>\n",
              "    </tr>\n",
              "    <tr>\n",
              "      <th>99</th>\n",
              "      <td>Plaatje, Sol</td>\n",
              "      <td>Native life in South Africa</td>\n",
              "      <td>History</td>\n",
              "      <td>3</td>\n",
              "    </tr>\n",
              "    <tr>\n",
              "      <th>100</th>\n",
              "      <td>Van Onselen, Charles</td>\n",
              "      <td>The seed is mine</td>\n",
              "      <td>History</td>\n",
              "      <td>4</td>\n",
              "    </tr>\n",
              "  </tbody>\n",
              "</table>\n",
              "<p>101 rows × 4 columns</p>\n",
              "</div>\n",
              "      <button class=\"colab-df-convert\" onclick=\"convertToInteractive('df-24e99aea-a5d5-4ddc-ab66-9aa38e076359')\"\n",
              "              title=\"Convert this dataframe to an interactive table.\"\n",
              "              style=\"display:none;\">\n",
              "        \n",
              "  <svg xmlns=\"http://www.w3.org/2000/svg\" height=\"24px\"viewBox=\"0 0 24 24\"\n",
              "       width=\"24px\">\n",
              "    <path d=\"M0 0h24v24H0V0z\" fill=\"none\"/>\n",
              "    <path d=\"M18.56 5.44l.94 2.06.94-2.06 2.06-.94-2.06-.94-.94-2.06-.94 2.06-2.06.94zm-11 1L8.5 8.5l.94-2.06 2.06-.94-2.06-.94L8.5 2.5l-.94 2.06-2.06.94zm10 10l.94 2.06.94-2.06 2.06-.94-2.06-.94-.94-2.06-.94 2.06-2.06.94z\"/><path d=\"M17.41 7.96l-1.37-1.37c-.4-.4-.92-.59-1.43-.59-.52 0-1.04.2-1.43.59L10.3 9.45l-7.72 7.72c-.78.78-.78 2.05 0 2.83L4 21.41c.39.39.9.59 1.41.59.51 0 1.02-.2 1.41-.59l7.78-7.78 2.81-2.81c.8-.78.8-2.07 0-2.86zM5.41 20L4 18.59l7.72-7.72 1.47 1.35L5.41 20z\"/>\n",
              "  </svg>\n",
              "      </button>\n",
              "      \n",
              "  <style>\n",
              "    .colab-df-container {\n",
              "      display:flex;\n",
              "      flex-wrap:wrap;\n",
              "      gap: 12px;\n",
              "    }\n",
              "\n",
              "    .colab-df-convert {\n",
              "      background-color: #E8F0FE;\n",
              "      border: none;\n",
              "      border-radius: 50%;\n",
              "      cursor: pointer;\n",
              "      display: none;\n",
              "      fill: #1967D2;\n",
              "      height: 32px;\n",
              "      padding: 0 0 0 0;\n",
              "      width: 32px;\n",
              "    }\n",
              "\n",
              "    .colab-df-convert:hover {\n",
              "      background-color: #E2EBFA;\n",
              "      box-shadow: 0px 1px 2px rgba(60, 64, 67, 0.3), 0px 1px 3px 1px rgba(60, 64, 67, 0.15);\n",
              "      fill: #174EA6;\n",
              "    }\n",
              "\n",
              "    [theme=dark] .colab-df-convert {\n",
              "      background-color: #3B4455;\n",
              "      fill: #D2E3FC;\n",
              "    }\n",
              "\n",
              "    [theme=dark] .colab-df-convert:hover {\n",
              "      background-color: #434B5C;\n",
              "      box-shadow: 0px 1px 3px 1px rgba(0, 0, 0, 0.15);\n",
              "      filter: drop-shadow(0px 1px 2px rgba(0, 0, 0, 0.3));\n",
              "      fill: #FFFFFF;\n",
              "    }\n",
              "  </style>\n",
              "\n",
              "      <script>\n",
              "        const buttonEl =\n",
              "          document.querySelector('#df-24e99aea-a5d5-4ddc-ab66-9aa38e076359 button.colab-df-convert');\n",
              "        buttonEl.style.display =\n",
              "          google.colab.kernel.accessAllowed ? 'block' : 'none';\n",
              "\n",
              "        async function convertToInteractive(key) {\n",
              "          const element = document.querySelector('#df-24e99aea-a5d5-4ddc-ab66-9aa38e076359');\n",
              "          const dataTable =\n",
              "            await google.colab.kernel.invokeFunction('convertToInteractive',\n",
              "                                                     [key], {});\n",
              "          if (!dataTable) return;\n",
              "\n",
              "          const docLinkHtml = 'Like what you see? Visit the ' +\n",
              "            '<a target=\"_blank\" href=https://colab.research.google.com/notebooks/data_table.ipynb>data table notebook</a>'\n",
              "            + ' to learn more about interactive tables.';\n",
              "          element.innerHTML = '';\n",
              "          dataTable['output_type'] = 'display_data';\n",
              "          await google.colab.output.renderOutput(dataTable, element);\n",
              "          const docLink = document.createElement('div');\n",
              "          docLink.innerHTML = docLinkHtml;\n",
              "          element.appendChild(docLink);\n",
              "        }\n",
              "      </script>\n",
              "    </div>\n",
              "  </div>\n",
              "  "
            ]
          },
          "metadata": {},
          "execution_count": 9
        }
      ]
    },
    {
      "cell_type": "code",
      "source": [
        "# renaming column\n",
        "df.rename(columns={'Genre':'genre'},inplace=True)"
      ],
      "metadata": {
        "id": "dG8kC7kFsV7l"
      },
      "execution_count": null,
      "outputs": []
    },
    {
      "cell_type": "code",
      "source": [
        "df.ratings.unique()"
      ],
      "metadata": {
        "colab": {
          "base_uri": "https://localhost:8080/"
        },
        "id": "uG_8U0UGG60H",
        "outputId": "720d2b4e-2b81-4cbb-a2c4-fec821f41ab4"
      },
      "execution_count": null,
      "outputs": [
        {
          "output_type": "execute_result",
          "data": {
            "text/plain": [
              "array([4, 3, 2, 1, 5])"
            ]
          },
          "metadata": {},
          "execution_count": 11
        }
      ]
    },
    {
      "cell_type": "code",
      "source": [
        "# rating visualization\n",
        "sns.countplot(data=df, x='ratings')\n",
        "plt.show()"
      ],
      "metadata": {
        "colab": {
          "base_uri": "https://localhost:8080/",
          "height": 279
        },
        "id": "GevPAyxIH59e",
        "outputId": "a3bd8980-87e3-4468-ea20-a39648908fb1"
      },
      "execution_count": null,
      "outputs": [
        {
          "output_type": "display_data",
          "data": {
            "text/plain": [
              "<Figure size 432x288 with 1 Axes>"
            ],
            "image/png": "[encoded data removed]"
          },
          "metadata": {
            "needs_background": "light"
          }
        }
      ]
    },
    {
      "cell_type": "markdown",
      "source": [
        "## i. Popularity Based Recommendation System\n",
        "* Popularity based is aimed to target the new customers and recommend the most popular products sold on a business' website to them which is a way to cold start a recommendation system.\n"
      ],
      "metadata": {
        "id": "AOzHdEEhqmXg"
      }
    },
    {
      "cell_type": "code",
      "source": [
        "ratings_count= pd.DataFrame(df.groupby(['genre'])['ratings'].sum())\n",
        "top_10= ratings_count.sort_values('ratings',ascending=False).head(10)\n",
        "print(\"The following genre of books are recommended\")\n",
        "top_10.merge(df, left_index= True, right_on='genre')\n",
        "top_10.head(20)"
      ],
      "metadata": {
        "colab": {
          "base_uri": "https://localhost:8080/",
          "height": 412
        },
        "id": "5HjN0s1Fqqwi",
        "outputId": "1d6baf40-c4ea-4832-96da-4d6a08b75b46"
      },
      "execution_count": null,
      "outputs": [
        {
          "output_type": "stream",
          "name": "stdout",
          "text": [
            "The following genre of books are recommended\n"
          ]
        },
        {
          "output_type": "execute_result",
          "data": {
            "text/plain": [
              "               ratings\n",
              "genre                 \n",
              "Fiction             77\n",
              "Novel               58\n",
              "History             48\n",
              "Literature          38\n",
              "Poetry              34\n",
              "Drama               13\n",
              "Autobiography        9\n",
              "New Age              8\n",
              "Biography            6\n",
              "HIstory              4"
            ],
            "text/html": [
              "\n",
              "  <div id=\"df-518d5d95-b6a7-47c5-9a3c-654b6a3235e9\">\n",
              "    <div class=\"colab-df-container\">\n",
              "      <div>\n",
              "<style scoped>\n",
              "    .dataframe tbody tr th:only-of-type {\n",
              "        vertical-align: middle;\n",
              "    }\n",
              "\n",
              "    .dataframe tbody tr th {\n",
              "        vertical-align: top;\n",
              "    }\n",
              "\n",
              "    .dataframe thead th {\n",
              "        text-align: right;\n",
              "    }\n",
              "</style>\n",
              "<table border=\"1\" class=\"dataframe\">\n",
              "  <thead>\n",
              "    <tr style=\"text-align: right;\">\n",
              "      <th></th>\n",
              "      <th>ratings</th>\n",
              "    </tr>\n",
              "    <tr>\n",
              "      <th>genre</th>\n",
              "      <th></th>\n",
              "    </tr>\n",
              "  </thead>\n",
              "  <tbody>\n",
              "    <tr>\n",
              "      <th>Fiction</th>\n",
              "      <td>77</td>\n",
              "    </tr>\n",
              "    <tr>\n",
              "      <th>Novel</th>\n",
              "      <td>58</td>\n",
              "    </tr>\n",
              "    <tr>\n",
              "      <th>History</th>\n",
              "      <td>48</td>\n",
              "    </tr>\n",
              "    <tr>\n",
              "      <th>Literature</th>\n",
              "      <td>38</td>\n",
              "    </tr>\n",
              "    <tr>\n",
              "      <th>Poetry</th>\n",
              "      <td>34</td>\n",
              "    </tr>\n",
              "    <tr>\n",
              "      <th>Drama</th>\n",
              "      <td>13</td>\n",
              "    </tr>\n",
              "    <tr>\n",
              "      <th>Autobiography</th>\n",
              "      <td>9</td>\n",
              "    </tr>\n",
              "    <tr>\n",
              "      <th>New Age</th>\n",
              "      <td>8</td>\n",
              "    </tr>\n",
              "    <tr>\n",
              "      <th>Biography</th>\n",
              "      <td>6</td>\n",
              "    </tr>\n",
              "    <tr>\n",
              "      <th>HIstory</th>\n",
              "      <td>4</td>\n",
              "    </tr>\n",
              "  </tbody>\n",
              "</table>\n",
              "</div>\n",
              "      <button class=\"colab-df-convert\" onclick=\"convertToInteractive('df-518d5d95-b6a7-47c5-9a3c-654b6a3235e9')\"\n",
              "              title=\"Convert this dataframe to an interactive table.\"\n",
              "              style=\"display:none;\">\n",
              "        \n",
              "  <svg xmlns=\"http://www.w3.org/2000/svg\" height=\"24px\"viewBox=\"0 0 24 24\"\n",
              "       width=\"24px\">\n",
              "    <path d=\"M0 0h24v24H0V0z\" fill=\"none\"/>\n",
              "    <path d=\"M18.56 5.44l.94 2.06.94-2.06 2.06-.94-2.06-.94-.94-2.06-.94 2.06-2.06.94zm-11 1L8.5 8.5l.94-2.06 2.06-.94-2.06-.94L8.5 2.5l-.94 2.06-2.06.94zm10 10l.94 2.06.94-2.06 2.06-.94-2.06-.94-.94-2.06-.94 2.06-2.06.94z\"/><path d=\"M17.41 7.96l-1.37-1.37c-.4-.4-.92-.59-1.43-.59-.52 0-1.04.2-1.43.59L10.3 9.45l-7.72 7.72c-.78.78-.78 2.05 0 2.83L4 21.41c.39.39.9.59 1.41.59.51 0 1.02-.2 1.41-.59l7.78-7.78 2.81-2.81c.8-.78.8-2.07 0-2.86zM5.41 20L4 18.59l7.72-7.72 1.47 1.35L5.41 20z\"/>\n",
              "  </svg>\n",
              "      </button>\n",
              "      \n",
              "  <style>\n",
              "    .colab-df-container {\n",
              "      display:flex;\n",
              "      flex-wrap:wrap;\n",
              "      gap: 12px;\n",
              "    }\n",
              "\n",
              "    .colab-df-convert {\n",
              "      background-color: #E8F0FE;\n",
              "      border: none;\n",
              "      border-radius: 50%;\n",
              "      cursor: pointer;\n",
              "      display: none;\n",
              "      fill: #1967D2;\n",
              "      height: 32px;\n",
              "      padding: 0 0 0 0;\n",
              "      width: 32px;\n",
              "    }\n",
              "\n",
              "    .colab-df-convert:hover {\n",
              "      background-color: #E2EBFA;\n",
              "      box-shadow: 0px 1px 2px rgba(60, 64, 67, 0.3), 0px 1px 3px 1px rgba(60, 64, 67, 0.15);\n",
              "      fill: #174EA6;\n",
              "    }\n",
              "\n",
              "    [theme=dark] .colab-df-convert {\n",
              "      background-color: #3B4455;\n",
              "      fill: #D2E3FC;\n",
              "    }\n",
              "\n",
              "    [theme=dark] .colab-df-convert:hover {\n",
              "      background-color: #434B5C;\n",
              "      box-shadow: 0px 1px 3px 1px rgba(0, 0, 0, 0.15);\n",
              "      filter: drop-shadow(0px 1px 2px rgba(0, 0, 0, 0.3));\n",
              "      fill: #FFFFFF;\n",
              "    }\n",
              "  </style>\n",
              "\n",
              "      <script>\n",
              "        const buttonEl =\n",
              "          document.querySelector('#df-518d5d95-b6a7-47c5-9a3c-654b6a3235e9 button.colab-df-convert');\n",
              "        buttonEl.style.display =\n",
              "          google.colab.kernel.accessAllowed ? 'block' : 'none';\n",
              "\n",
              "        async function convertToInteractive(key) {\n",
              "          const element = document.querySelector('#df-518d5d95-b6a7-47c5-9a3c-654b6a3235e9');\n",
              "          const dataTable =\n",
              "            await google.colab.kernel.invokeFunction('convertToInteractive',\n",
              "                                                     [key], {});\n",
              "          if (!dataTable) return;\n",
              "\n",
              "          const docLinkHtml = 'Like what you see? Visit the ' +\n",
              "            '<a target=\"_blank\" href=https://colab.research.google.com/notebooks/data_table.ipynb>data table notebook</a>'\n",
              "            + ' to learn more about interactive tables.';\n",
              "          element.innerHTML = '';\n",
              "          dataTable['output_type'] = 'display_data';\n",
              "          await google.colab.output.renderOutput(dataTable, element);\n",
              "          const docLink = document.createElement('div');\n",
              "          docLink.innerHTML = docLinkHtml;\n",
              "          element.appendChild(docLink);\n",
              "        }\n",
              "      </script>\n",
              "    </div>\n",
              "  </div>\n",
              "  "
            ]
          },
          "metadata": {},
          "execution_count": 13
        }
      ]
    },
    {
      "cell_type": "code",
      "source": [
        "top_10.head(10).plot(kind = \"bar\")"
      ],
      "metadata": {
        "colab": {
          "base_uri": "https://localhost:8080/",
          "height": 361
        },
        "id": "BWDLrg13psM-",
        "outputId": "b600a581-a97d-474e-d7fb-7a0825e85399"
      },
      "execution_count": null,
      "outputs": [
        {
          "output_type": "execute_result",
          "data": {
            "text/plain": [
              "<matplotlib.axes._subplots.AxesSubplot at 0x7ff2b7b49390>"
            ]
          },
          "metadata": {},
          "execution_count": 14
        },
        {
          "output_type": "display_data",
          "data": {
            "text/plain": [
              "<Figure size 432x288 with 1 Axes>"
            ],
            "image/png": "[encoded data removed]"
          },
          "metadata": {
            "needs_background": "light"
          }
        }
      ]
    },
    {
      "cell_type": "markdown",
      "source": [
        "### Inference:\n",
        "* The list appears in the order of the higher the rating a genre gets, the higher the chances of that genre to be recommended to a any new user. \n",
        "* In this case, fiction books had higher ratings, this is why it is considered to be top priority and history books are least in the popularity based recommendation list"
      ],
      "metadata": {
        "id": "T1lm1PkkoPHt"
      }
    },
    {
      "cell_type": "markdown",
      "source": [
        "## Collaborative Filtering"
      ],
      "metadata": {
        "id": "y8z0895Nv7kK"
      }
    },
    {
      "cell_type": "code",
      "source": [
        "# converting the dataframe into a matrix on a pivot table, and fill empty spaces with zeros\n",
        "df_matrix = df.pivot_table(values='ratings', index='genre', columns='Book_Title', fill_value=0)\n",
        "df_matrix.head()"
      ],
      "metadata": {
        "colab": {
          "base_uri": "https://localhost:8080/",
          "height": 418
        },
        "id": "ZWWuCZjawBZL",
        "outputId": "bd5dc813-0fb4-49fd-eee4-932f75baf559"
      },
      "execution_count": null,
      "outputs": [
        {
          "output_type": "execute_result",
          "data": {
            "text/plain": [
              "Book_Title     A Grain of Wheat  A dry white season  A geração da utopia  \\\n",
              "genre                                                                      \n",
              "Autobiography                 0                   0                    0   \n",
              "Biography                     0                   0                    0   \n",
              "Diary                         0                   0                    0   \n",
              "Drama                         0                   0                    0   \n",
              "Economics                     0                   0                    0   \n",
              "\n",
              "Book_Title     A question of power  Abessijnse kronieken  \\\n",
              "genre                                                      \n",
              "Autobiography                    0                     0   \n",
              "Biography                        0                     0   \n",
              "Diary                            0                     0   \n",
              "Drama                            0                     0   \n",
              "Economics                        0                     0   \n",
              "\n",
              "Book_Title     Accumulation on a world scale  Ake: The Years of Childhood  \\\n",
              "genre                                                                       \n",
              "Autobiography                              0                            0   \n",
              "Biography                                  0                            3   \n",
              "Diary                                      0                            0   \n",
              "Drama                                      0                            0   \n",
              "Economics                                  4                            0   \n",
              "\n",
              "Book_Title     Amal'eZulu  Anowa  Antériorité des civilisations nègre  ...  \\\n",
              "genre                                                                  ...   \n",
              "Autobiography           0      0                                    0  ...   \n",
              "Biography               0      0                                    0  ...   \n",
              "Diary                   0      0                                    0  ...   \n",
              "Drama                   0      3                                    0  ...   \n",
              "Economics               0      0                                    0  ...   \n",
              "\n",
              "Book_Title     Things fall apart  Third World Express  Ualalapi  \\\n",
              "genre                                                             \n",
              "Autobiography                  0                    0         0   \n",
              "Biography                      0                    0         0   \n",
              "Diary                          0                    0         0   \n",
              "Drama                          0                    0         0   \n",
              "Economics                      0                    0         0   \n",
              "\n",
              "Book_Title     Un attieké pour Elgass  Unity and struggle  \\\n",
              "genre                                                       \n",
              "Autobiography                       0                   0   \n",
              "Biography                           0                   0   \n",
              "Diary                               0                   0   \n",
              "Drama                               0                   0   \n",
              "Economics                           0                   0   \n",
              "\n",
              "Book_Title     Utenzi wa vita vya uhuru  Woman at point zero  Zayni Barakat  \\\n",
              "genre                                                                         \n",
              "Autobiography                         0                    0              0   \n",
              "Biography                             0                    0              0   \n",
              "Diary                                 0                    0              0   \n",
              "Drama                                 0                    0              0   \n",
              "Economics                             0                    0              0   \n",
              "\n",
              "Book_Title     al-Mawt  'ala al as-falt   Une si longue lettre,  \n",
              "genre                                                            \n",
              "Autobiography                         0                       0  \n",
              "Biography                             0                       0  \n",
              "Diary                                 0                       0  \n",
              "Drama                                 0                       0  \n",
              "Economics                             0                       0  \n",
              "\n",
              "[5 rows x 101 columns]"
            ],
            "text/html": [
              "\n",
              "  <div id=\"df-7822ff9c-8591-479c-a49c-b9e62b66bbc8\">\n",
              "    <div class=\"colab-df-container\">\n",
              "      <div>\n",
              "<style scoped>\n",
              "    .dataframe tbody tr th:only-of-type {\n",
              "        vertical-align: middle;\n",
              "    }\n",
              "\n",
              "    .dataframe tbody tr th {\n",
              "        vertical-align: top;\n",
              "    }\n",
              "\n",
              "    .dataframe thead th {\n",
              "        text-align: right;\n",
              "    }\n",
              "</style>\n",
              "<table border=\"1\" class=\"dataframe\">\n",
              "  <thead>\n",
              "    <tr style=\"text-align: right;\">\n",
              "      <th>Book_Title</th>\n",
              "      <th>A Grain of Wheat</th>\n",
              "      <th>A dry white season</th>\n",
              "      <th>A geração da utopia</th>\n",
              "      <th>A question of power</th>\n",
              "      <th>Abessijnse kronieken</th>\n",
              "      <th>Accumulation on a world scale</th>\n",
              "      <th>Ake: The Years of Childhood</th>\n",
              "      <th>Amal'eZulu</th>\n",
              "      <th>Anowa</th>\n",
              "      <th>Antériorité des civilisations nègre</th>\n",
              "      <th>...</th>\n",
              "      <th>Things fall apart</th>\n",
              "      <th>Third World Express</th>\n",
              "      <th>Ualalapi</th>\n",
              "      <th>Un attieké pour Elgass</th>\n",
              "      <th>Unity and struggle</th>\n",
              "      <th>Utenzi wa vita vya uhuru</th>\n",
              "      <th>Woman at point zero</th>\n",
              "      <th>Zayni Barakat</th>\n",
              "      <th>al-Mawt  'ala al as-falt</th>\n",
              "      <th>Une si longue lettre,</th>\n",
              "    </tr>\n",
              "    <tr>\n",
              "      <th>genre</th>\n",
              "      <th></th>\n",
              "      <th></th>\n",
              "      <th></th>\n",
              "      <th></th>\n",
              "      <th></th>\n",
              "      <th></th>\n",
              "      <th></th>\n",
              "      <th></th>\n",
              "      <th></th>\n",
              "      <th></th>\n",
              "      <th></th>\n",
              "      <th></th>\n",
              "      <th></th>\n",
              "      <th></th>\n",
              "      <th></th>\n",
              "      <th></th>\n",
              "      <th></th>\n",
              "      <th></th>\n",
              "      <th></th>\n",
              "      <th></th>\n",
              "      <th></th>\n",
              "    </tr>\n",
              "  </thead>\n",
              "  <tbody>\n",
              "    <tr>\n",
              "      <th>Autobiography</th>\n",
              "      <td>0</td>\n",
              "      <td>0</td>\n",
              "      <td>0</td>\n",
              "      <td>0</td>\n",
              "      <td>0</td>\n",
              "      <td>0</td>\n",
              "      <td>0</td>\n",
              "      <td>0</td>\n",
              "      <td>0</td>\n",
              "      <td>0</td>\n",
              "      <td>...</td>\n",
              "      <td>0</td>\n",
              "      <td>0</td>\n",
              "      <td>0</td>\n",
              "      <td>0</td>\n",
              "      <td>0</td>\n",
              "      <td>0</td>\n",
              "      <td>0</td>\n",
              "      <td>0</td>\n",
              "      <td>0</td>\n",
              "      <td>0</td>\n",
              "    </tr>\n",
              "    <tr>\n",
              "      <th>Biography</th>\n",
              "      <td>0</td>\n",
              "      <td>0</td>\n",
              "      <td>0</td>\n",
              "      <td>0</td>\n",
              "      <td>0</td>\n",
              "      <td>0</td>\n",
              "      <td>3</td>\n",
              "      <td>0</td>\n",
              "      <td>0</td>\n",
              "      <td>0</td>\n",
              "      <td>...</td>\n",
              "      <td>0</td>\n",
              "      <td>0</td>\n",
              "      <td>0</td>\n",
              "      <td>0</td>\n",
              "      <td>0</td>\n",
              "      <td>0</td>\n",
              "      <td>0</td>\n",
              "      <td>0</td>\n",
              "      <td>0</td>\n",
              "      <td>0</td>\n",
              "    </tr>\n",
              "    <tr>\n",
              "      <th>Diary</th>\n",
              "      <td>0</td>\n",
              "      <td>0</td>\n",
              "      <td>0</td>\n",
              "      <td>0</td>\n",
              "      <td>0</td>\n",
              "      <td>0</td>\n",
              "      <td>0</td>\n",
              "      <td>0</td>\n",
              "      <td>0</td>\n",
              "      <td>0</td>\n",
              "      <td>...</td>\n",
              "      <td>0</td>\n",
              "      <td>0</td>\n",
              "      <td>0</td>\n",
              "      <td>0</td>\n",
              "      <td>0</td>\n",
              "      <td>0</td>\n",
              "      <td>0</td>\n",
              "      <td>0</td>\n",
              "      <td>0</td>\n",
              "      <td>0</td>\n",
              "    </tr>\n",
              "    <tr>\n",
              "      <th>Drama</th>\n",
              "      <td>0</td>\n",
              "      <td>0</td>\n",
              "      <td>0</td>\n",
              "      <td>0</td>\n",
              "      <td>0</td>\n",
              "      <td>0</td>\n",
              "      <td>0</td>\n",
              "      <td>0</td>\n",
              "      <td>3</td>\n",
              "      <td>0</td>\n",
              "      <td>...</td>\n",
              "      <td>0</td>\n",
              "      <td>0</td>\n",
              "      <td>0</td>\n",
              "      <td>0</td>\n",
              "      <td>0</td>\n",
              "      <td>0</td>\n",
              "      <td>0</td>\n",
              "      <td>0</td>\n",
              "      <td>0</td>\n",
              "      <td>0</td>\n",
              "    </tr>\n",
              "    <tr>\n",
              "      <th>Economics</th>\n",
              "      <td>0</td>\n",
              "      <td>0</td>\n",
              "      <td>0</td>\n",
              "      <td>0</td>\n",
              "      <td>0</td>\n",
              "      <td>4</td>\n",
              "      <td>0</td>\n",
              "      <td>0</td>\n",
              "      <td>0</td>\n",
              "      <td>0</td>\n",
              "      <td>...</td>\n",
              "      <td>0</td>\n",
              "      <td>0</td>\n",
              "      <td>0</td>\n",
              "      <td>0</td>\n",
              "      <td>0</td>\n",
              "      <td>0</td>\n",
              "      <td>0</td>\n",
              "      <td>0</td>\n",
              "      <td>0</td>\n",
              "      <td>0</td>\n",
              "    </tr>\n",
              "  </tbody>\n",
              "</table>\n",
              "<p>5 rows × 101 columns</p>\n",
              "</div>\n",
              "      <button class=\"colab-df-convert\" onclick=\"convertToInteractive('df-7822ff9c-8591-479c-a49c-b9e62b66bbc8')\"\n",
              "              title=\"Convert this dataframe to an interactive table.\"\n",
              "              style=\"display:none;\">\n",
              "        \n",
              "  <svg xmlns=\"http://www.w3.org/2000/svg\" height=\"24px\"viewBox=\"0 0 24 24\"\n",
              "       width=\"24px\">\n",
              "    <path d=\"M0 0h24v24H0V0z\" fill=\"none\"/>\n",
              "    <path d=\"M18.56 5.44l.94 2.06.94-2.06 2.06-.94-2.06-.94-.94-2.06-.94 2.06-2.06.94zm-11 1L8.5 8.5l.94-2.06 2.06-.94-2.06-.94L8.5 2.5l-.94 2.06-2.06.94zm10 10l.94 2.06.94-2.06 2.06-.94-2.06-.94-.94-2.06-.94 2.06-2.06.94z\"/><path d=\"M17.41 7.96l-1.37-1.37c-.4-.4-.92-.59-1.43-.59-.52 0-1.04.2-1.43.59L10.3 9.45l-7.72 7.72c-.78.78-.78 2.05 0 2.83L4 21.41c.39.39.9.59 1.41.59.51 0 1.02-.2 1.41-.59l7.78-7.78 2.81-2.81c.8-.78.8-2.07 0-2.86zM5.41 20L4 18.59l7.72-7.72 1.47 1.35L5.41 20z\"/>\n",
              "  </svg>\n",
              "      </button>\n",
              "      \n",
              "  <style>\n",
              "    .colab-df-container {\n",
              "      display:flex;\n",
              "      flex-wrap:wrap;\n",
              "      gap: 12px;\n",
              "    }\n",
              "\n",
              "    .colab-df-convert {\n",
              "      background-color: #E8F0FE;\n",
              "      border: none;\n",
              "      border-radius: 50%;\n",
              "      cursor: pointer;\n",
              "      display: none;\n",
              "      fill: #1967D2;\n",
              "      height: 32px;\n",
              "      padding: 0 0 0 0;\n",
              "      width: 32px;\n",
              "    }\n",
              "\n",
              "    .colab-df-convert:hover {\n",
              "      background-color: #E2EBFA;\n",
              "      box-shadow: 0px 1px 2px rgba(60, 64, 67, 0.3), 0px 1px 3px 1px rgba(60, 64, 67, 0.15);\n",
              "      fill: #174EA6;\n",
              "    }\n",
              "\n",
              "    [theme=dark] .colab-df-convert {\n",
              "      background-color: #3B4455;\n",
              "      fill: #D2E3FC;\n",
              "    }\n",
              "\n",
              "    [theme=dark] .colab-df-convert:hover {\n",
              "      background-color: #434B5C;\n",
              "      box-shadow: 0px 1px 3px 1px rgba(0, 0, 0, 0.15);\n",
              "      filter: drop-shadow(0px 1px 2px rgba(0, 0, 0, 0.3));\n",
              "      fill: #FFFFFF;\n",
              "    }\n",
              "  </style>\n",
              "\n",
              "      <script>\n",
              "        const buttonEl =\n",
              "          document.querySelector('#df-7822ff9c-8591-479c-a49c-b9e62b66bbc8 button.colab-df-convert');\n",
              "        buttonEl.style.display =\n",
              "          google.colab.kernel.accessAllowed ? 'block' : 'none';\n",
              "\n",
              "        async function convertToInteractive(key) {\n",
              "          const element = document.querySelector('#df-7822ff9c-8591-479c-a49c-b9e62b66bbc8');\n",
              "          const dataTable =\n",
              "            await google.colab.kernel.invokeFunction('convertToInteractive',\n",
              "                                                     [key], {});\n",
              "          if (!dataTable) return;\n",
              "\n",
              "          const docLinkHtml = 'Like what you see? Visit the ' +\n",
              "            '<a target=\"_blank\" href=https://colab.research.google.com/notebooks/data_table.ipynb>data table notebook</a>'\n",
              "            + ' to learn more about interactive tables.';\n",
              "          element.innerHTML = '';\n",
              "          dataTable['output_type'] = 'display_data';\n",
              "          await google.colab.output.renderOutput(dataTable, element);\n",
              "          const docLink = document.createElement('div');\n",
              "          docLink.innerHTML = docLinkHtml;\n",
              "          element.appendChild(docLink);\n",
              "        }\n",
              "      </script>\n",
              "    </div>\n",
              "  </div>\n",
              "  "
            ]
          },
          "metadata": {},
          "execution_count": 15
        }
      ]
    },
    {
      "cell_type": "code",
      "source": [
        "df_matrix.shape"
      ],
      "metadata": {
        "colab": {
          "base_uri": "https://localhost:8080/"
        },
        "id": "w-BYBup3zpU6",
        "outputId": "445f0e72-7c4f-4b26-c8a3-5d0b37799c83"
      },
      "execution_count": null,
      "outputs": [
        {
          "output_type": "execute_result",
          "data": {
            "text/plain": [
              "(22, 101)"
            ]
          },
          "metadata": {},
          "execution_count": 16
        }
      ]
    },
    {
      "cell_type": "markdown",
      "source": [
        "* the matrix will have to be transposed, so that the genres can be on the columns position as the features and the book title on the index position, for subsequent decomposing"
      ],
      "metadata": {
        "id": "s7jxeMJYt2Ym"
      }
    },
    {
      "cell_type": "code",
      "source": [
        "# transpose the matrix table\n",
        "df_t = df_matrix.T\n",
        "df_t.head(100)"
      ],
      "metadata": {
        "colab": {
          "base_uri": "https://localhost:8080/",
          "height": 2293
        },
        "id": "Cm7CQW87zt5C",
        "outputId": "740568e9-f778-426b-a9ac-cdbd75808bde"
      },
      "execution_count": null,
      "outputs": [
        {
          "output_type": "execute_result",
          "data": {
            "text/plain": [
              "genre                     Autobiography  Biography  Diary  Drama  Economics  \\\n",
              "Book_Title                                                                    \n",
              "A Grain of Wheat                      0          0      0      0          0   \n",
              "A dry white season                    0          0      0      0          0   \n",
              "A geração da utopia                   0          0      0      0          0   \n",
              "A question of power                   0          0      0      0          0   \n",
              "Abessijnse kronieken                  0          0      0      0          0   \n",
              "...                                 ...        ...    ...    ...        ...   \n",
              "Unity and struggle                    0          0      0      0          0   \n",
              "Utenzi wa vita vya uhuru              0          0      0      0          0   \n",
              "Woman at point zero                   0          0      0      0          0   \n",
              "Zayni Barakat                         0          0      0      0          0   \n",
              "al-Mawt  'ala al as-falt              0          0      0      0          0   \n",
              "\n",
              "genre                     Fantasy  Fiction  HIstory  Historical Fiction  \\\n",
              "Book_Title                                                                \n",
              "A Grain of Wheat                0        0        0                   0   \n",
              "A dry white season              0        3        0                   0   \n",
              "A geração da utopia             0        4        0                   0   \n",
              "A question of power             0        3        0                   0   \n",
              "Abessijnse kronieken            0        3        0                   0   \n",
              "...                           ...      ...      ...                 ...   \n",
              "Unity and struggle              0        0        0                   0   \n",
              "Utenzi wa vita vya uhuru        0        0        0                   0   \n",
              "Woman at point zero             0        0        0                   0   \n",
              "Zayni Barakat                   0        0        0                   0   \n",
              "al-Mawt  'ala al as-falt        0        0        0                   0   \n",
              "\n",
              "genre                     Historical Novel  ...  New Age  Non-fiction  Novel  \\\n",
              "Book_Title                                  ...                                \n",
              "A Grain of Wheat                         2  ...        0            0      0   \n",
              "A dry white season                       0  ...        0            0      0   \n",
              "A geração da utopia                      0  ...        0            0      0   \n",
              "A question of power                      0  ...        0            0      0   \n",
              "Abessijnse kronieken                     0  ...        0            0      0   \n",
              "...                                    ...  ...      ...          ...    ...   \n",
              "Unity and struggle                       0  ...        0            0      0   \n",
              "Utenzi wa vita vya uhuru                 0  ...        0            0      0   \n",
              "Woman at point zero                      0  ...        0            4      0   \n",
              "Zayni Barakat                            0  ...        0            0      0   \n",
              "al-Mawt  'ala al as-falt                 0  ...        0            0      0   \n",
              "\n",
              "genre                     Philosophy  Philosopy  Poetry  Political Fiction  \\\n",
              "Book_Title                                                                   \n",
              "A Grain of Wheat                   0          0       0                  0   \n",
              "A dry white season                 0          0       0                  0   \n",
              "A geração da utopia                0          0       0                  0   \n",
              "A question of power                0          0       0                  0   \n",
              "Abessijnse kronieken               0          0       0                  0   \n",
              "...                              ...        ...     ...                ...   \n",
              "Unity and struggle                 0          0       0                  4   \n",
              "Utenzi wa vita vya uhuru           0          0       4                  0   \n",
              "Woman at point zero                0          0       0                  0   \n",
              "Zayni Barakat                      0          0       0                  0   \n",
              "al-Mawt  'ala al as-falt           0          0       4                  0   \n",
              "\n",
              "genre                     Science Fiction  Short Story  Sociology  \n",
              "Book_Title                                                         \n",
              "A Grain of Wheat                        0            0          0  \n",
              "A dry white season                      0            0          0  \n",
              "A geração da utopia                     0            0          0  \n",
              "A question of power                     0            0          0  \n",
              "Abessijnse kronieken                    0            0          0  \n",
              "...                                   ...          ...        ...  \n",
              "Unity and struggle                      0            0          0  \n",
              "Utenzi wa vita vya uhuru                0            0          0  \n",
              "Woman at point zero                     0            0          0  \n",
              "Zayni Barakat                           0            0          0  \n",
              "al-Mawt  'ala al as-falt                0            0          0  \n",
              "\n",
              "[100 rows x 22 columns]"
            ],
            "text/html": [
              "\n",
              "  <div id=\"df-f53b88e4-beb9-476e-a41a-f411dba3ac25\">\n",
              "    <div class=\"colab-df-container\">\n",
              "      <div>\n",
              "<style scoped>\n",
              "    .dataframe tbody tr th:only-of-type {\n",
              "        vertical-align: middle;\n",
              "    }\n",
              "\n",
              "    .dataframe tbody tr th {\n",
              "        vertical-align: top;\n",
              "    }\n",
              "\n",
              "    .dataframe thead th {\n",
              "        text-align: right;\n",
              "    }\n",
              "</style>\n",
              "<table border=\"1\" class=\"dataframe\">\n",
              "  <thead>\n",
              "    <tr style=\"text-align: right;\">\n",
              "      <th>genre</th>\n",
              "      <th>Autobiography</th>\n",
              "      <th>Biography</th>\n",
              "      <th>Diary</th>\n",
              "      <th>Drama</th>\n",
              "      <th>Economics</th>\n",
              "      <th>Fantasy</th>\n",
              "      <th>Fiction</th>\n",
              "      <th>HIstory</th>\n",
              "      <th>Historical Fiction</th>\n",
              "      <th>Historical Novel</th>\n",
              "      <th>...</th>\n",
              "      <th>New Age</th>\n",
              "      <th>Non-fiction</th>\n",
              "      <th>Novel</th>\n",
              "      <th>Philosophy</th>\n",
              "      <th>Philosopy</th>\n",
              "      <th>Poetry</th>\n",
              "      <th>Political Fiction</th>\n",
              "      <th>Science Fiction</th>\n",
              "      <th>Short Story</th>\n",
              "      <th>Sociology</th>\n",
              "    </tr>\n",
              "    <tr>\n",
              "      <th>Book_Title</th>\n",
              "      <th></th>\n",
              "      <th></th>\n",
              "      <th></th>\n",
              "      <th></th>\n",
              "      <th></th>\n",
              "      <th></th>\n",
              "      <th></th>\n",
              "      <th></th>\n",
              "      <th></th>\n",
              "      <th></th>\n",
              "      <th></th>\n",
              "      <th></th>\n",
              "      <th></th>\n",
              "      <th></th>\n",
              "      <th></th>\n",
              "      <th></th>\n",
              "      <th></th>\n",
              "      <th></th>\n",
              "      <th></th>\n",
              "      <th></th>\n",
              "      <th></th>\n",
              "    </tr>\n",
              "  </thead>\n",
              "  <tbody>\n",
              "    <tr>\n",
              "      <th>A Grain of Wheat</th>\n",
              "      <td>0</td>\n",
              "      <td>0</td>\n",
              "      <td>0</td>\n",
              "      <td>0</td>\n",
              "      <td>0</td>\n",
              "      <td>0</td>\n",
              "      <td>0</td>\n",
              "      <td>0</td>\n",
              "      <td>0</td>\n",
              "      <td>2</td>\n",
              "      <td>...</td>\n",
              "      <td>0</td>\n",
              "      <td>0</td>\n",
              "      <td>0</td>\n",
              "      <td>0</td>\n",
              "      <td>0</td>\n",
              "      <td>0</td>\n",
              "      <td>0</td>\n",
              "      <td>0</td>\n",
              "      <td>0</td>\n",
              "      <td>0</td>\n",
              "    </tr>\n",
              "    <tr>\n",
              "      <th>A dry white season</th>\n",
              "      <td>0</td>\n",
              "      <td>0</td>\n",
              "      <td>0</td>\n",
              "      <td>0</td>\n",
              "      <td>0</td>\n",
              "      <td>0</td>\n",
              "      <td>3</td>\n",
              "      <td>0</td>\n",
              "      <td>0</td>\n",
              "      <td>0</td>\n",
              "      <td>...</td>\n",
              "      <td>0</td>\n",
              "      <td>0</td>\n",
              "      <td>0</td>\n",
              "      <td>0</td>\n",
              "      <td>0</td>\n",
              "      <td>0</td>\n",
              "      <td>0</td>\n",
              "      <td>0</td>\n",
              "      <td>0</td>\n",
              "      <td>0</td>\n",
              "    </tr>\n",
              "    <tr>\n",
              "      <th>A geração da utopia</th>\n",
              "      <td>0</td>\n",
              "      <td>0</td>\n",
              "      <td>0</td>\n",
              "      <td>0</td>\n",
              "      <td>0</td>\n",
              "      <td>0</td>\n",
              "      <td>4</td>\n",
              "      <td>0</td>\n",
              "      <td>0</td>\n",
              "      <td>0</td>\n",
              "      <td>...</td>\n",
              "      <td>0</td>\n",
              "      <td>0</td>\n",
              "      <td>0</td>\n",
              "      <td>0</td>\n",
              "      <td>0</td>\n",
              "      <td>0</td>\n",
              "      <td>0</td>\n",
              "      <td>0</td>\n",
              "      <td>0</td>\n",
              "      <td>0</td>\n",
              "    </tr>\n",
              "    <tr>\n",
              "      <th>A question of power</th>\n",
              "      <td>0</td>\n",
              "      <td>0</td>\n",
              "      <td>0</td>\n",
              "      <td>0</td>\n",
              "      <td>0</td>\n",
              "      <td>0</td>\n",
              "      <td>3</td>\n",
              "      <td>0</td>\n",
              "      <td>0</td>\n",
              "      <td>0</td>\n",
              "      <td>...</td>\n",
              "      <td>0</td>\n",
              "      <td>0</td>\n",
              "      <td>0</td>\n",
              "      <td>0</td>\n",
              "      <td>0</td>\n",
              "      <td>0</td>\n",
              "      <td>0</td>\n",
              "      <td>0</td>\n",
              "      <td>0</td>\n",
              "      <td>0</td>\n",
              "    </tr>\n",
              "    <tr>\n",
              "      <th>Abessijnse kronieken</th>\n",
              "      <td>0</td>\n",
              "      <td>0</td>\n",
              "      <td>0</td>\n",
              "      <td>0</td>\n",
              "      <td>0</td>\n",
              "      <td>0</td>\n",
              "      <td>3</td>\n",
              "      <td>0</td>\n",
              "      <td>0</td>\n",
              "      <td>0</td>\n",
              "      <td>...</td>\n",
              "      <td>0</td>\n",
              "      <td>0</td>\n",
              "      <td>0</td>\n",
              "      <td>0</td>\n",
              "      <td>0</td>\n",
              "      <td>0</td>\n",
              "      <td>0</td>\n",
              "      <td>0</td>\n",
              "      <td>0</td>\n",
              "      <td>0</td>\n",
              "    </tr>\n",
              "    <tr>\n",
              "      <th>...</th>\n",
              "      <td>...</td>\n",
              "      <td>...</td>\n",
              "      <td>...</td>\n",
              "      <td>...</td>\n",
              "      <td>...</td>\n",
              "      <td>...</td>\n",
              "      <td>...</td>\n",
              "      <td>...</td>\n",
              "      <td>...</td>\n",
              "      <td>...</td>\n",
              "      <td>...</td>\n",
              "      <td>...</td>\n",
              "      <td>...</td>\n",
              "      <td>...</td>\n",
              "      <td>...</td>\n",
              "      <td>...</td>\n",
              "      <td>...</td>\n",
              "      <td>...</td>\n",
              "      <td>...</td>\n",
              "      <td>...</td>\n",
              "      <td>...</td>\n",
              "    </tr>\n",
              "    <tr>\n",
              "      <th>Unity and struggle</th>\n",
              "      <td>0</td>\n",
              "      <td>0</td>\n",
              "      <td>0</td>\n",
              "      <td>0</td>\n",
              "      <td>0</td>\n",
              "      <td>0</td>\n",
              "      <td>0</td>\n",
              "      <td>0</td>\n",
              "      <td>0</td>\n",
              "      <td>0</td>\n",
              "      <td>...</td>\n",
              "      <td>0</td>\n",
              "      <td>0</td>\n",
              "      <td>0</td>\n",
              "      <td>0</td>\n",
              "      <td>0</td>\n",
              "      <td>0</td>\n",
              "      <td>4</td>\n",
              "      <td>0</td>\n",
              "      <td>0</td>\n",
              "      <td>0</td>\n",
              "    </tr>\n",
              "    <tr>\n",
              "      <th>Utenzi wa vita vya uhuru</th>\n",
              "      <td>0</td>\n",
              "      <td>0</td>\n",
              "      <td>0</td>\n",
              "      <td>0</td>\n",
              "      <td>0</td>\n",
              "      <td>0</td>\n",
              "      <td>0</td>\n",
              "      <td>0</td>\n",
              "      <td>0</td>\n",
              "      <td>0</td>\n",
              "      <td>...</td>\n",
              "      <td>0</td>\n",
              "      <td>0</td>\n",
              "      <td>0</td>\n",
              "      <td>0</td>\n",
              "      <td>0</td>\n",
              "      <td>4</td>\n",
              "      <td>0</td>\n",
              "      <td>0</td>\n",
              "      <td>0</td>\n",
              "      <td>0</td>\n",
              "    </tr>\n",
              "    <tr>\n",
              "      <th>Woman at point zero</th>\n",
              "      <td>0</td>\n",
              "      <td>0</td>\n",
              "      <td>0</td>\n",
              "      <td>0</td>\n",
              "      <td>0</td>\n",
              "      <td>0</td>\n",
              "      <td>0</td>\n",
              "      <td>0</td>\n",
              "      <td>0</td>\n",
              "      <td>0</td>\n",
              "      <td>...</td>\n",
              "      <td>0</td>\n",
              "      <td>4</td>\n",
              "      <td>0</td>\n",
              "      <td>0</td>\n",
              "      <td>0</td>\n",
              "      <td>0</td>\n",
              "      <td>0</td>\n",
              "      <td>0</td>\n",
              "      <td>0</td>\n",
              "      <td>0</td>\n",
              "    </tr>\n",
              "    <tr>\n",
              "      <th>Zayni Barakat</th>\n",
              "      <td>0</td>\n",
              "      <td>0</td>\n",
              "      <td>0</td>\n",
              "      <td>0</td>\n",
              "      <td>0</td>\n",
              "      <td>0</td>\n",
              "      <td>0</td>\n",
              "      <td>0</td>\n",
              "      <td>0</td>\n",
              "      <td>0</td>\n",
              "      <td>...</td>\n",
              "      <td>0</td>\n",
              "      <td>0</td>\n",
              "      <td>0</td>\n",
              "      <td>0</td>\n",
              "      <td>0</td>\n",
              "      <td>0</td>\n",
              "      <td>0</td>\n",
              "      <td>0</td>\n",
              "      <td>0</td>\n",
              "      <td>0</td>\n",
              "    </tr>\n",
              "    <tr>\n",
              "      <th>al-Mawt  'ala al as-falt</th>\n",
              "      <td>0</td>\n",
              "      <td>0</td>\n",
              "      <td>0</td>\n",
              "      <td>0</td>\n",
              "      <td>0</td>\n",
              "      <td>0</td>\n",
              "      <td>0</td>\n",
              "      <td>0</td>\n",
              "      <td>0</td>\n",
              "      <td>0</td>\n",
              "      <td>...</td>\n",
              "      <td>0</td>\n",
              "      <td>0</td>\n",
              "      <td>0</td>\n",
              "      <td>0</td>\n",
              "      <td>0</td>\n",
              "      <td>4</td>\n",
              "      <td>0</td>\n",
              "      <td>0</td>\n",
              "      <td>0</td>\n",
              "      <td>0</td>\n",
              "    </tr>\n",
              "  </tbody>\n",
              "</table>\n",
              "<p>100 rows × 22 columns</p>\n",
              "</div>\n",
              "      <button class=\"colab-df-convert\" onclick=\"convertToInteractive('df-f53b88e4-beb9-476e-a41a-f411dba3ac25')\"\n",
              "              title=\"Convert this dataframe to an interactive table.\"\n",
              "              style=\"display:none;\">\n",
              "        \n",
              "  <svg xmlns=\"http://www.w3.org/2000/svg\" height=\"24px\"viewBox=\"0 0 24 24\"\n",
              "       width=\"24px\">\n",
              "    <path d=\"M0 0h24v24H0V0z\" fill=\"none\"/>\n",
              "    <path d=\"M18.56 5.44l.94 2.06.94-2.06 2.06-.94-2.06-.94-.94-2.06-.94 2.06-2.06.94zm-11 1L8.5 8.5l.94-2.06 2.06-.94-2.06-.94L8.5 2.5l-.94 2.06-2.06.94zm10 10l.94 2.06.94-2.06 2.06-.94-2.06-.94-.94-2.06-.94 2.06-2.06.94z\"/><path d=\"M17.41 7.96l-1.37-1.37c-.4-.4-.92-.59-1.43-.59-.52 0-1.04.2-1.43.59L10.3 9.45l-7.72 7.72c-.78.78-.78 2.05 0 2.83L4 21.41c.39.39.9.59 1.41.59.51 0 1.02-.2 1.41-.59l7.78-7.78 2.81-2.81c.8-.78.8-2.07 0-2.86zM5.41 20L4 18.59l7.72-7.72 1.47 1.35L5.41 20z\"/>\n",
              "  </svg>\n",
              "      </button>\n",
              "      \n",
              "  <style>\n",
              "    .colab-df-container {\n",
              "      display:flex;\n",
              "      flex-wrap:wrap;\n",
              "      gap: 12px;\n",
              "    }\n",
              "\n",
              "    .colab-df-convert {\n",
              "      background-color: #E8F0FE;\n",
              "      border: none;\n",
              "      border-radius: 50%;\n",
              "      cursor: pointer;\n",
              "      display: none;\n",
              "      fill: #1967D2;\n",
              "      height: 32px;\n",
              "      padding: 0 0 0 0;\n",
              "      width: 32px;\n",
              "    }\n",
              "\n",
              "    .colab-df-convert:hover {\n",
              "      background-color: #E2EBFA;\n",
              "      box-shadow: 0px 1px 2px rgba(60, 64, 67, 0.3), 0px 1px 3px 1px rgba(60, 64, 67, 0.15);\n",
              "      fill: #174EA6;\n",
              "    }\n",
              "\n",
              "    [theme=dark] .colab-df-convert {\n",
              "      background-color: #3B4455;\n",
              "      fill: #D2E3FC;\n",
              "    }\n",
              "\n",
              "    [theme=dark] .colab-df-convert:hover {\n",
              "      background-color: #434B5C;\n",
              "      box-shadow: 0px 1px 3px 1px rgba(0, 0, 0, 0.15);\n",
              "      filter: drop-shadow(0px 1px 2px rgba(0, 0, 0, 0.3));\n",
              "      fill: #FFFFFF;\n",
              "    }\n",
              "  </style>\n",
              "\n",
              "      <script>\n",
              "        const buttonEl =\n",
              "          document.querySelector('#df-f53b88e4-beb9-476e-a41a-f411dba3ac25 button.colab-df-convert');\n",
              "        buttonEl.style.display =\n",
              "          google.colab.kernel.accessAllowed ? 'block' : 'none';\n",
              "\n",
              "        async function convertToInteractive(key) {\n",
              "          const element = document.querySelector('#df-f53b88e4-beb9-476e-a41a-f411dba3ac25');\n",
              "          const dataTable =\n",
              "            await google.colab.kernel.invokeFunction('convertToInteractive',\n",
              "                                                     [key], {});\n",
              "          if (!dataTable) return;\n",
              "\n",
              "          const docLinkHtml = 'Like what you see? Visit the ' +\n",
              "            '<a target=\"_blank\" href=https://colab.research.google.com/notebooks/data_table.ipynb>data table notebook</a>'\n",
              "            + ' to learn more about interactive tables.';\n",
              "          element.innerHTML = '';\n",
              "          dataTable['output_type'] = 'display_data';\n",
              "          await google.colab.output.renderOutput(dataTable, element);\n",
              "          const docLink = document.createElement('div');\n",
              "          docLink.innerHTML = docLinkHtml;\n",
              "          element.appendChild(docLink);\n",
              "        }\n",
              "      </script>\n",
              "    </div>\n",
              "  </div>\n",
              "  "
            ]
          },
          "metadata": {},
          "execution_count": 49
        },
        {
          "output_type": "stream",
          "name": "stdout",
          "text": [
            "Warning: Total number of columns (22) exceeds max_columns (20) limiting to first (20) columns.\n"
          ]
        }
      ]
    },
    {
      "cell_type": "code",
      "source": [
        "df_t.shape"
      ],
      "metadata": {
        "colab": {
          "base_uri": "https://localhost:8080/"
        },
        "id": "nGwr9wfCz2-y",
        "outputId": "079a0fda-8384-42ac-95c9-770708666528"
      },
      "execution_count": null,
      "outputs": [
        {
          "output_type": "execute_result",
          "data": {
            "text/plain": [
              "(101, 22)"
            ]
          },
          "metadata": {},
          "execution_count": 18
        }
      ]
    },
    {
      "cell_type": "code",
      "source": [
        "#decomposing matrix\n",
        "SVD = TruncatedSVD(n_components=21)\n",
        "decomposed_matrix = SVD.fit_transform(df_t)\n",
        "decomposed_matrix.shape"
      ],
      "metadata": {
        "colab": {
          "base_uri": "https://localhost:8080/"
        },
        "id": "YGFdx11F0B5X",
        "outputId": "1c6d072d-2604-4562-b035-dc0c02de909a"
      },
      "execution_count": null,
      "outputs": [
        {
          "output_type": "execute_result",
          "data": {
            "text/plain": [
              "(101, 21)"
            ]
          },
          "metadata": {},
          "execution_count": 19
        }
      ]
    },
    {
      "cell_type": "code",
      "source": [
        "correlation_matrix = np.corrcoef(decomposed_matrix)\n",
        "correlation_matrix.shape"
      ],
      "metadata": {
        "colab": {
          "base_uri": "https://localhost:8080/"
        },
        "id": "SW2hUQzT0XBx",
        "outputId": "41422dc2-6eed-476c-f73a-a2b100aeb392"
      },
      "execution_count": null,
      "outputs": [
        {
          "output_type": "execute_result",
          "data": {
            "text/plain": [
              "(101, 101)"
            ]
          },
          "metadata": {},
          "execution_count": 20
        }
      ]
    },
    {
      "cell_type": "markdown",
      "source": [
        "* i is assigned to whatever index(book/product) is selected at random, and converted to a list as the product id"
      ],
      "metadata": {
        "id": "x6bUWiaDvVaG"
      }
    },
    {
      "cell_type": "code",
      "source": [
        "whilei = int(input('type your prefered genre here')):\n",
        "\n",
        "except TypeError:\n",
        "    print(\"invalid! type a genre again!\")\n",
        "\n",
        "continue:"
      ],
      "metadata": {
        "colab": {
          "base_uri": "https://localhost:8080/",
          "height": 130
        },
        "id": "lh2HtaPhkjaA",
        "outputId": "1f1405fb-cc18-4457-c319-58c52bab2b14"
      },
      "execution_count": null,
      "outputs": [
        {
          "output_type": "error",
          "ename": "SyntaxError",
          "evalue": "ignored",
          "traceback": [
            "\u001b[0;36m  File \u001b[0;32m\"<ipython-input-32-104461ed7994>\"\u001b[0;36m, line \u001b[0;32m1\u001b[0m\n\u001b[0;31m    while i = int(input('type your prefered genre here')):\u001b[0m\n\u001b[0m            ^\u001b[0m\n\u001b[0;31mSyntaxError\u001b[0m\u001b[0;31m:\u001b[0m invalid syntax\n"
          ]
        }
      ]
    },
    {
      "cell_type": "markdown",
      "source": [
        "* 3- fiction \"a question of power\" \n",
        "* 20- new age \"cutting the rose\"\n",
        "* 77-novel \"Terra sonâmbula\tCaminho\"\n",
        "* 50- literature \"Les bouts de bois de Dieu\"\n",
        "* 23-science fiction \"Die swerfjare van Poppie Nongen\"\n",
        "* 30- diary \"In my father's house\"\n",
        "* 90- history \"The struggle for Mozambique\"\n",
        "* 8-drama \"anowa\"\n",
        "* 24- biography \"Down Second Avenue\"\n",
        "* 27- Autobiography \"Ghana: autobiography of Kwame Nkrumah\"\n",
        "* 5- economics \"Accumulation on a world scale\"\n",
        "* 15- historical Fiction \"chaka\"\n",
        "* 99-poetry \"al-Mawt  'ala al as-falt\""
      ],
      "metadata": {
        "id": "nZfsM9xi9hnT"
      }
    },
    {
      "cell_type": "code",
      "source": [
        "i=df_t.index[99]\n",
        "i"
      ],
      "metadata": {
        "colab": {
          "base_uri": "https://localhost:8080/",
          "height": 35
        },
        "id": "NaQfdmuH802x",
        "outputId": "83411aca-b6b7-4dcb-b94f-36079ccfa77c"
      },
      "execution_count": null,
      "outputs": [
        {
          "output_type": "execute_result",
          "data": {
            "text/plain": [
              "\"al-Mawt\\xa0 'ala al as-falt\""
            ],
            "application/vnd.google.colaboratory.intrinsic+json": {
              "type": "string"
            }
          },
          "metadata": {},
          "execution_count": 58
        }
      ]
    },
    {
      "cell_type": "code",
      "source": [
        "i=df_t.index[20]\n",
        "product_names = list(df_t.index)\n",
        "product_ID = product_names.index(i)\n",
        "product_ID"
      ],
      "metadata": {
        "colab": {
          "base_uri": "https://localhost:8080/"
        },
        "id": "CYsvKEHh027S",
        "outputId": "9be7be3d-59f7-44ef-aa02-5710cf4c2a7d"
      },
      "execution_count": null,
      "outputs": [
        {
          "output_type": "execute_result",
          "data": {
            "text/plain": [
              "20"
            ]
          },
          "metadata": {},
          "execution_count": 35
        }
      ]
    },
    {
      "cell_type": "code",
      "source": [
        "correlation_product_ID = correlation_matrix[product_ID]\n",
        "correlation_product_ID.shape"
      ],
      "metadata": {
        "colab": {
          "base_uri": "https://localhost:8080/"
        },
        "id": "eZqHCfwB1Ec0",
        "outputId": "625a3a87-3abd-40da-9278-909481e747ef"
      },
      "execution_count": null,
      "outputs": [
        {
          "output_type": "execute_result",
          "data": {
            "text/plain": [
              "(101,)"
            ]
          },
          "metadata": {},
          "execution_count": 22
        }
      ]
    },
    {
      "cell_type": "markdown",
      "source": [
        "* Another list is then created as the recommendation list, and the number of items to recommend is inputed without the book/product that was being selected at random at first.\n",
        "* in this case if a user selects a book at random, 20 other books/product is being recommended to that user."
      ],
      "metadata": {
        "id": "dgdvjhoBwO6u"
      }
    },
    {
      "cell_type": "code",
      "source": [
        "Recommend = list(df_t.index[correlation_product_ID > 0.020])\n",
        "Recommend.remove(i) \n",
        "print('Books you may also like')\n",
        "Recommend[0:20]"
      ],
      "metadata": {
        "colab": {
          "base_uri": "https://localhost:8080/"
        },
        "id": "2pNLTgFx1LGW",
        "outputId": "66c14947-c5e2-4339-fc8b-2ebcc578b4e0"
      },
      "execution_count": null,
      "outputs": [
        {
          "output_type": "stream",
          "name": "stdout",
          "text": [
            "Books you may also like\n"
          ]
        },
        {
          "output_type": "execute_result",
          "data": {
            "text/plain": [
              "['A dry white season',\n",
              " 'A geração da utopia',\n",
              " 'Abessijnse kronieken',\n",
              " 'Beyond the mask, race, gender and identity',\n",
              " 'Bones',\n",
              " 'Butterfly burning',\n",
              " 'Citizen and subject: contemporary Africa and the legacy of late colonialism',\n",
              " 'Die swerfjare van Poppie Nongen',\n",
              " 'Ingqumbo yeminyanya (Eng. versie)',\n",
              " 'Inkinnsela yaseMgungundlovu',\n",
              " 'Le pauvre Christ de Bomba (English version)',\n",
              " 'Le vieux nègre et la médaille',\n",
              " \"Les contes d'Amadou Koumba\",\n",
              " 'Living, loving and lying awake at night',\n",
              " 'Maps',\n",
              " 'Murambi ou le livre des ossements',\n",
              " 'Nedjma',\n",
              " 'O testamento do Sr. Nepomuceno da Silva Araújo',\n",
              " 'Season of migration to the north',\n",
              " 'Terra Sonâmbula\\xa0']"
            ]
          },
          "metadata": {},
          "execution_count": 23
        }
      ]
    },
    {
      "cell_type": "markdown",
      "source": [
        "* These are the books that are being recommended to the user when they selected the book at random.\n",
        "\n"
      ],
      "metadata": {
        "id": "HFrHpNApxgjb"
      }
    },
    {
      "cell_type": "markdown",
      "source": [
        "## Saving and load model"
      ],
      "metadata": {
        "id": "dINb9L67biRq"
      }
    },
    {
      "cell_type": "code",
      "source": [
        "import pickle"
      ],
      "metadata": {
        "id": "ItDjDXrzboyQ"
      },
      "execution_count": null,
      "outputs": []
    },
    {
      "cell_type": "code",
      "source": [
        "# saving the model as a pickle string\n",
        "saved_model = pickle.dumps(Recommend[0:20])"
      ],
      "metadata": {
        "id": "vqSle_ZWb8sQ"
      },
      "execution_count": null,
      "outputs": []
    },
    {
      "cell_type": "code",
      "source": [
        "#Load the pickled model\n",
        "recommend_from_pickle = pickle.loads(saved_model)"
      ],
      "metadata": {
        "id": "QdjvGRKecOwv"
      },
      "execution_count": null,
      "outputs": []
    },
    {
      "cell_type": "code",
      "source": [
        "recommend_from_pickle"
      ],
      "metadata": {
        "colab": {
          "base_uri": "https://localhost:8080/"
        },
        "id": "xg6R5UMNcs5h",
        "outputId": "acccb0ea-8172-4bb5-a654-471256dbec49"
      },
      "execution_count": null,
      "outputs": [
        {
          "output_type": "execute_result",
          "data": {
            "text/plain": [
              "['A dry white season',\n",
              " 'A geração da utopia',\n",
              " 'Abessijnse kronieken',\n",
              " 'Beyond the mask, race, gender and identity',\n",
              " 'Bones',\n",
              " 'Butterfly burning',\n",
              " 'Citizen and subject: contemporary Africa and the legacy of late colonialism',\n",
              " 'Die swerfjare van Poppie Nongen',\n",
              " 'Ingqumbo yeminyanya (Eng. versie)',\n",
              " 'Inkinnsela yaseMgungundlovu',\n",
              " 'Le pauvre Christ de Bomba (English version)',\n",
              " 'Le vieux nègre et la médaille',\n",
              " \"Les contes d'Amadou Koumba\",\n",
              " 'Living, loving and lying awake at night',\n",
              " 'Maps',\n",
              " 'Murambi ou le livre des ossements',\n",
              " 'Nedjma',\n",
              " 'O testamento do Sr. Nepomuceno da Silva Araújo',\n",
              " 'Season of migration to the north',\n",
              " 'Terra Sonâmbula\\xa0']"
            ]
          },
          "metadata": {},
          "execution_count": 27
        }
      ]
    }
  ]
}